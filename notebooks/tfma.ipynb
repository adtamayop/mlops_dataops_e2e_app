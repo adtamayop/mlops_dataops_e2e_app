{
 "cells": [
  {
   "cell_type": "code",
   "execution_count": null,
   "metadata": {},
   "outputs": [],
   "source": [
    "!jupyter nbextension enable --py widgetsnbextension --sys-prefix \n"
   ]
  },
  {
   "cell_type": "code",
   "execution_count": null,
   "metadata": {},
   "outputs": [],
   "source": [
    "!jupyter nbextension install --py --symlink tensorflow_model_analysis --sys-prefix \n"
   ]
  },
  {
   "cell_type": "code",
   "execution_count": null,
   "metadata": {},
   "outputs": [],
   "source": [
    "!jupyter nbextension enable --py tensorflow_model_analysis --sys-prefix "
   ]
  },
  {
   "cell_type": "code",
   "execution_count": null,
   "metadata": {},
   "outputs": [],
   "source": [
    "# Run in a Jupyter Notebook.\n",
    "from google.protobuf import text_format\n",
    "import tensorflow_model_analysis as tfma\n",
    "\n",
    "eval_config = text_format.Parse(\"\"\"\n",
    "  ## Model information\n",
    "  model_specs {\n",
    "    # This assumes a serving model with a \"serving_default\" signature.\n",
    "    label_key: \"labels_xf\"\n",
    "  }\n",
    "  ## Post export metric information\n",
    "  metrics_specs {\n",
    "    # This adds AUC and as a post training metric. If the model has built in\n",
    "    # training metrics which also contains AUC, this metric will replace it.\n",
    "    # ... other post training metrics ...\n",
    "\n",
    "    # Plots are also configured here...\n",
    "    metrics { class_name: \"ConfusionMatrixPlot\" }\n",
    "  }\n",
    "  ## Slicing information\n",
    "  slicing_specs {}  # overall slice\n",
    "  slicing_specs {\n",
    "  }\n",
    "\"\"\", tfma.EvalConfig())\n",
    "\n",
    "eval_shared_model = tfma.default_eval_shared_model(\n",
    "    eval_saved_model_path='/app/tfx_pipeline_output/serving_model/local_pipeline/1632198008/', eval_config=eval_config)\n",
    "\n",
    "eval_result = tfma.run_model_analysis(\n",
    "    eval_shared_model=eval_shared_model,\n",
    "    eval_config=eval_config,\n",
    "    # This assumes your data is a TFRecords file containing records in the\n",
    "    # tf.train.Example format.\n",
    "    data_location='/app/tfx_pipeline_output/pipelines/local_pipeline/CsvExampleGen/examples/1/Split-train/data_tfrecord-00000-of-00001.gz',\n",
    "    output_path=\".\")\n",
    "\n",
    "tfma.view.render_slicing_metrics(eval_result)"
   ]
  },
  {
   "cell_type": "code",
   "execution_count": null,
   "metadata": {},
   "outputs": [],
   "source": [
    "tfma.view.render_slicing_metrics(eval_result)"
   ]
  },
  {
   "cell_type": "code",
   "execution_count": null,
   "metadata": {},
   "outputs": [],
   "source": []
  }
 ],
 "metadata": {
  "interpreter": {
   "hash": "4cd7ab41f5fca4b9b44701077e38c5ffd31fe66a6cab21e0214b68d958d0e462"
  },
  "kernelspec": {
   "display_name": "Python 3.7.11 64-bit",
   "name": "python3"
  },
  "language_info": {
   "codemirror_mode": {
    "name": "ipython",
    "version": 3
   },
   "file_extension": ".py",
   "mimetype": "text/x-python",
   "name": "python",
   "nbconvert_exporter": "python",
   "pygments_lexer": "ipython3",
   "version": "3.7.11"
  }
 },
 "nbformat": 4,
 "nbformat_minor": 2
}
