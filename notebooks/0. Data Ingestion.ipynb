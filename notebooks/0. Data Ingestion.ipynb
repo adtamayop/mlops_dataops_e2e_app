{
 "cells": [
  {
   "cell_type": "markdown",
   "metadata": {},
   "source": [
    "# Data Ingestion\n",
    "\n",
    "Para la creación del dataset es necesaria la ejecución de los script contenidos en la carpeta src.data en el siguiente orden:\n",
    "\n",
    "1. `get_external_data.py`: Se encarga de obtener los datos actualizados a traves de la API.\n",
    "2. `merge_raw_data.py`: Los archivos son descargados mensuamente de forma individual, este script se encarga de fusionar los datos en un archivo.\n",
    "3. `labelling.py`: Se ejecutan la técnica de etiquetado seleccionada, para convertir el dataset en un dataset supervisado.\n",
    "4. `preprocess.py`: Se particionan y se ejecutan otra funciones de procesamiento.\n",
    "\n",
    "Para mayor facilidad, se crea un archivo bash llamado `create_dataset`, en el que se ejecutan los scripts en el orden adecuado, y adicionalmente se ejecutan automaticamente los comandos necesarios para generar el versionamiento de los datos utilizados, así que bastaría con ejecutar en una terminal:\n",
    "\n",
    "`bash create_dataset.sh`"
   ]
  }
 ],
 "metadata": {
  "language_info": {
   "name": "python"
  }
 },
 "nbformat": 4,
 "nbformat_minor": 2
}
