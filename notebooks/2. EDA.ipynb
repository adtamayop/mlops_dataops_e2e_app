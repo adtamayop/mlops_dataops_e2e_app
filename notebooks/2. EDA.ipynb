{
 "cells": [
  {
   "cell_type": "code",
   "execution_count": null,
   "metadata": {},
   "outputs": [],
   "source": [
    "import os\n",
    "import sys\n",
    "import time\n",
    "import requests\n",
    "import itertools\n",
    "import numpy as np\n",
    "import pandas as pd \n",
    "from tqdm import tqdm\n",
    "import seaborn as sns\n",
    "from pylab import rcParams\n",
    "import plotly.express as px\n",
    "import statsmodels.api as sm\n",
    "import matplotlib.pyplot as plt"
   ]
  },
  {
   "cell_type": "code",
   "execution_count": null,
   "metadata": {},
   "outputs": [],
   "source": [
    "dataset = pd.read_csv(\"../data/raw/joined/raw_joined_dataset.csv\")"
   ]
  },
  {
   "cell_type": "code",
   "execution_count": null,
   "metadata": {},
   "outputs": [],
   "source": [
    "dataset.info()"
   ]
  },
  {
   "cell_type": "code",
   "execution_count": null,
   "metadata": {},
   "outputs": [],
   "source": [
    "dataset.head()"
   ]
  },
  {
   "cell_type": "code",
   "execution_count": null,
   "metadata": {},
   "outputs": [],
   "source": [
    "dataset.plot(subplots=True, figsize=(28,20))\n"
   ]
  },
  {
   "cell_type": "code",
   "execution_count": null,
   "metadata": {},
   "outputs": [],
   "source": [
    "sns.distplot(\n",
    "    dataset[\"close\"], \n",
    "    hist=True, kde=True,\n",
    "    bins=20,              \n",
    "    color = 'blue', \n",
    "    hist_kws={'edgecolor':'black'},\n",
    "    kde_kws={'linewidth': 2})"
   ]
  },
  {
   "cell_type": "code",
   "execution_count": null,
   "metadata": {},
   "outputs": [],
   "source": [
    "dataset['row_num'] = np.arange(len(dataset))\n",
    "\n",
    "fig = px.line(dataset, x='row_num', y='close', title='Time series stock')\n",
    "\n",
    "# fig.layout = dict(xaxis = dict(type=\"category\", categoryorder='category ascending'))\n",
    "\n",
    "fig.layout = dict(yaxis=dict(\n",
    "       autorange = True,\n",
    "       fixedrange= False\n",
    "   ))\n",
    "\n",
    "fig.update_xaxes(    \n",
    "    rangeslider_visible=True)\n",
    "\n",
    "# fig.update_xaxes(    \n",
    "#     rangeslider_visible=True,\n",
    "#     selector=dict(\n",
    "#         buttons=list([\n",
    "#             dict(count=1, label=\"1m\", step=\"month\", stepmode=\"backward\"),\n",
    "#             dict(count=6, label=\"6m\", step=\"month\", stepmode=\"backward\"),\n",
    "#             dict(count=1, label=\"YTD\", step=\"year\", stepmode=\"todate\"),\n",
    "#             dict(count=1, label=\"1y\", step=\"year\", stepmode=\"backward\"),\n",
    "#             dict(step=\"all\")\n",
    "#         ])\n",
    "#     )\n",
    "# )\n",
    "\n",
    "fig.show()"
   ]
  },
  {
   "cell_type": "code",
   "execution_count": null,
   "metadata": {},
   "outputs": [],
   "source": [
    "df_date = dataset.set_index(pd.DatetimeIndex(dataset['time']))\n",
    "df_date = df_date.drop(['time'], axis=1)\n",
    "\n",
    "rcParams['figure.figsize'] = 30, 9\n",
    "df_date.sort_index(inplace= True)\n",
    "decomposition = sm.tsa.seasonal_decompose(x=df_date['close'], model='additive', period=60)\n",
    "fig = decomposition.plot()\n",
    "plt.show()"
   ]
  }
 ],
 "metadata": {
  "interpreter": {
   "hash": "31f2aee4e71d21fbe5cf8b01ff0e069b9275f58929596ceb00d14d90e3e16cd6"
  },
  "kernelspec": {
   "display_name": "Python 3.8.2 64-bit",
   "name": "python3"
  },
  "language_info": {
   "codemirror_mode": {
    "name": "ipython",
    "version": 3
   },
   "file_extension": ".py",
   "mimetype": "text/x-python",
   "name": "python",
   "nbconvert_exporter": "python",
   "pygments_lexer": "ipython3",
   "version": "3.8.2"
  }
 },
 "nbformat": 4,
 "nbformat_minor": 2
}
