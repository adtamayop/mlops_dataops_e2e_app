{
 "cells": [
  {
   "cell_type": "markdown",
   "metadata": {},
   "source": [
    "## Qué es el trading?\n",
    "\n",
    "El ‘trading’ consiste en la compraventa de activos cotizados con mucha liquidez de mercado (acciones, divisas y futuros). Y ese mercado financiero es electrónico y está regulado. Su objetivo es obtener un beneficio económico cuando la operación genera una plusvalía. (fuente: https://www.bbva.com/es/que-es-trading-que-hace-falta-para-operar/)\n",
    "\n",
    "\n",
    "## Por qué es necesario el trading automático?\n",
    "\n",
    "Dichas operaciones de compraventa deben ejecutar análisis veloces y eficientes debido al gran volúmen de datos financieros que rebasa la capacidad  de procesamiento humana en tiempo real, por ello, no es de extrañar que el uso de sistemas de trading automático, los cuales hacen uso de algoritmos para automatizar alguno o todos los elementos de una estrategia comercial, haya aumentado. Estos, sistemas permiten tomar operaciones con mayor velocidad, optimizar la estrategia a lo largo del proceso de inversión, entrar y salir de operaciones, crear una gestión de riesgos[10] e incluso se reduce el impacto de las decisiones emocionales que afectan los resultados profundamente.\n",
    "\n",
    "## Por qué el uso de machine learning es beneficioso?\n",
    "\n",
    "Teniendo en cuenta que los datos como las series de tiempo financieras, poseen factores que representan una mayor complejidad que otros datos estadísticos debido a que son altamente no lineales, no estacionarios y de naturaleza ruidosa [11], el uso de  diversas técnicas de ML, que distan de las tradicionales en el sentido de que no hacen supuestos tan fuertes como la linealidad de los datos a procesar, han mostrado su capacidad de encontrar patrones ocultos en grandes cantidades de datos que , permiteniendo llevar a cabo hacer predicciones con mayor precisión. \n",
    "\n",
    "## Por qué usar mlops y dataops en el proceso de desarrollo?\n",
    "\n",
    "No obstante, el proceso de modelar otras variables involucradas en el comportamiento de los datos que son aún más complejas que las ya mencionadas, como son las emociones humanas, crisis económicas, intereses financieros y políticos, e incluso variables tan volátiles e impredecibles como el clima, tienen impactos directos o indirectos sobre la economía [12], hace que la implementación de dichos modelos no sea una tarea trivial. Por consiguiente, para la construcción de un sistema de trading automático, efectivo y que presente mínimos errores en su ejecución, se deben incorporar elementos que permitan un alto nivel experimental de modelos, de gran flexibilidad en su arquitectura y de rápida integración al sistema [9].\n",
    "\n",
    "Dicho esto, se procederá a enmarcar el desarrollo de un sistema de trading, bajo los enfoques de DataOps y MLOps, y comparar los beneficios que traen dichos enfoques sobre un problema real y realizar una aproximación a una metodología que permita la integración de ambos enfoques.\n",
    "\n",
    "## Objetivo\n",
    "\n",
    "El objetivo es desarrollar una aplicación de trading que permita tomar decisiones de compra o venta para un activo determinado, por lo tanto será un problema de aprendizaje supervisado en el que se debe de generar la variable objetivo dada cierta estrategia de etiquetado, y luego se procede a entrenar un modelo para las futuras predicciones.\n",
    "\n",
    "## Métricas\n",
    "\n",
    "A pesar de que las métricas que tienen un mayor impacto habitualmente son las que están relacionadas al negocio de alguna manera, las métricas usadas en este proyecto debido a fines prácticos serán métricas tradicionales de machine learning como la precisión del modelo"
   ]
  },
  {
   "cell_type": "markdown",
   "metadata": {},
   "source": []
  }
 ],
 "metadata": {
  "language_info": {
   "name": "python"
  }
 },
 "nbformat": 4,
 "nbformat_minor": 2
}
