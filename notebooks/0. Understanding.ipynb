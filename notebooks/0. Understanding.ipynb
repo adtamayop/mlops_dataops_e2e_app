{
 "cells": [
  {
   "cell_type": "code",
   "execution_count": null,
   "metadata": {},
   "outputs": [],
   "source": [
    "De que se trata el trading"
   ]
  },
  {
   "cell_type": "markdown",
   "metadata": {},
   "source": [
    "\n",
    "Entendimiento del negocio:\n",
    "Qué es el trading?\n",
    "El ‘trading’ consiste en la compraventa de activos cotizados con mucha liquidez de mercado (acciones, divisas y futuros). Y ese mercado financiero es electrónico y está regulado. Su objetivo es obtener un beneficio económico cuando la operación genera una plusvalía. (fuente: https://www.bbva.com/es/que-es-trading-que-hace-falta-para-operar/)\n",
    "\n",
    "realizar un análisis veloz y eficiente del gran volúmen de datos financieros rebasa la capacidad de procesamiento humana en tiempo real,; por ello, no es de extrañar que el uso de sistemas de trading automático, los cuales hacen uso de algoritmos para automatizar alguno o todos los elementos de una estrategia comercial, haya aumentado. Estos, sistemas permiten tomar operaciones con mayor velocidad, optimizar la estrategia a lo largo del proceso de inversión, entrar y salir de operaciones, crear una gestión de riesgos, entre otros muchos beneficios [10].\n",
    "\n",
    "Teniendo en cuenta que los datos como las series de tiempo financieras, añaden factores que representan una mayor complejidad que otros datos estadísticos debido a que son altamente no lineales, no estacionarios y de naturaleza ruidosa [11], el uso de diversas técnicas de ML, que distan de las tradicionales en el sentido de que no hacen supuestos tan fuertes como la linealidad de los datos a procesar,; han mostrado su capacidad de encontrar patrones ocultos en grandes cantidades de datos que , permiteniendo llevar a cabo hacer predicciones con mayor precisión.\n",
    "\n",
    "No obstante, el proceso de modelar otras variables involucradas en el comportamiento de los datos que son aún más complejas que las ya mencionadas, como son las emociones humanas, crisis económicas, intereses financieros y políticos, e incluso variables tan volátiles e impredecibles como el clima, tienen impactos directos o indirectos sobre la economía [12], hace que la implementación de dichos modelos no sea una tarea trivial. Por consiguiente, para la construcción de un sistema de trading automático, efectivo y que presente mínimos errores en su ejecución, se deben incorporar elementos que permitan un alto nivel experimental de modelos, de gran flexibilidad en su arquitectura y de rápida integración al sistema [9].\n",
    "\n",
    "Dicho esto, se procederá a enmarcar el desarrollo de un sistema de trading, bajo los enfoques de DataOps y MLOps, y comparar los beneficios que traen dichos enfoques sobre un problema real y realizar una aproximación a una metodología que permita la integración de ambos enfoques.\n",
    "\n",
    "El trading automático, también conocido como trading automatizado o sistema de trading, es una forma de participar en los mercados financieros a través de un programa que ejecuta reglas preestablecidas para entrar y salir de operaciones. Como inversor, combinarás un análisis técnico exhaustivo con la fijación de parámetros para tus posiciones, como órdenes de apertura, stops dinámicos y stops garantizados. Tus operaciones son gestionadas desde el principio hasta el final, por lo que podrás pasar menos tiempo monitorizando tus posiciones.\n",
    "\n",
    "El trading automatizado te permite llevar a cabo muchas operaciones en un corto periodo de tiempo, con el beneficio añadido de reducir el impacto de las decisiones emocionales en tus estrategias de trading. Esto se debe a que las reglas de la operación ya están construidas bajo los parámetros que has establecido. Con algunos algoritmos puedes incluso utilizar tus estrategias preestablecidas para seguir tendencias y operar de acuerdo con ellas.\n",
    "\n",
    "Por qué se requiere?\n",
    "\n",
    "Definir métricas de negocio."
   ]
  }
 ],
 "metadata": {
  "language_info": {
   "name": "python"
  }
 },
 "nbformat": 4,
 "nbformat_minor": 2
}
