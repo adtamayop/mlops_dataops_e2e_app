{
 "cells": [
  {
   "cell_type": "markdown",
   "metadata": {},
   "source": [
    "!jupyter nbextension enable --py widgetsnbextension --sys-prefix"
   ]
  },
  {
   "cell_type": "code",
   "execution_count": null,
   "metadata": {},
   "outputs": [],
   "source": [
    "!jupyter nbextension enable --py widgetsnbextension --sys-prefix"
   ]
  },
  {
   "cell_type": "code",
   "execution_count": null,
   "metadata": {},
   "outputs": [],
   "source": []
  },
  {
   "cell_type": "code",
   "execution_count": null,
   "metadata": {},
   "outputs": [],
   "source": [
    "!jupyter nbextension install --py --symlink tensorflow_model_analysis --sys-prefix"
   ]
  },
  {
   "cell_type": "code",
   "execution_count": null,
   "metadata": {},
   "outputs": [],
   "source": [
    "!jupyter nbextension enable tensorflow_model_analysis --py --sys-prefix"
   ]
  },
  {
   "cell_type": "code",
   "execution_count": null,
   "metadata": {},
   "outputs": [],
   "source": [
    "!jupyter nbextension enable --py tensorflow_model_analysis --sys-prefix"
   ]
  },
  {
   "cell_type": "markdown",
   "metadata": {},
   "source": [
    "\n",
    "\n",
    "\n",
    "\n",
    "\n",
    "\n",
    "jupyter nbextension enable tensorflow_model_analysis --py --sys-prefix"
   ]
  },
  {
   "cell_type": "code",
   "execution_count": null,
   "metadata": {},
   "outputs": [],
   "source": [
    "# jupyter nbextension enable tensorflow_model_analysis --py --sys-prefix\n",
    "!jupyter nbextension enable widgetsnbextension --user --py"
   ]
  },
  {
   "cell_type": "code",
   "execution_count": null,
   "metadata": {},
   "outputs": [],
   "source": [
    "!jupyter nbextension install --py widgetsnbextension --user"
   ]
  },
  {
   "cell_type": "code",
   "execution_count": null,
   "metadata": {},
   "outputs": [],
   "source": [
    "!jupyter nbextension enable --py widgetsnbextension"
   ]
  },
  {
   "cell_type": "code",
   "execution_count": null,
   "metadata": {},
   "outputs": [],
   "source": [
    "\n",
    "!jupyter nbextension enable --py tensorflow_model_analysis"
   ]
  },
  {
   "cell_type": "code",
   "execution_count": null,
   "metadata": {},
   "outputs": [],
   "source": [
    "import tensorflow_model_analysis as tfma\n",
    "import tensorflow as tf\n",
    "\n",
    "import sys\n",
    "import os\n",
    "\n",
    "# stop tf warnings \n",
    "import logging\n",
    "logger = tf.get_logger()\n",
    "logger.setLevel(logging.ERROR)\n",
    "from tfx.orchestration.experimental.interactive.interactive_context import InteractiveContext\n",
    "\n",
    "context = InteractiveContext(  \n",
    "  pipeline_name='notebook_pipeline_test',\n",
    "  pipeline_root=\"./output_notebook_pipeline\")"
   ]
  },
  {
   "cell_type": "code",
   "execution_count": null,
   "metadata": {},
   "outputs": [],
   "source": [
    "import tensorflow_model_analysis as tfma \n",
    "import tensorflow as tf\n",
    "\n",
    "_MODEL_DIR = \"/Users/atamayo/Desktop/nuevo/tfx_pipeline_output/mlops-dataops-pipeline/serving_model/1628871645/\"\n",
    "\n",
    "_EVAL_DATA_FILE = \"/Users/atamayo/Desktop/nuevo/tfx_pipeline_output/mlops-dataops-pipeline/CsvExampleGen/examples/69/Split-test/\"\n",
    "\n",
    "_LABEL_KEY = \"label\"\n",
    "\n",
    "_EVAL_RESULT_LOCATION = \"./analysis_result\"\n",
    "\n",
    "eval_shared_model = tfma.default_eval_shared_model(    \n",
    "    eval_saved_model_path=_MODEL_DIR,    \n",
    "    tags=[tf.saved_model.SERVING])"
   ]
  },
  {
   "cell_type": "code",
   "execution_count": null,
   "metadata": {},
   "outputs": [],
   "source": [
    "slices = [tfma.slicer.SingleSliceSpec()]"
   ]
  },
  {
   "cell_type": "code",
   "execution_count": null,
   "metadata": {},
   "outputs": [],
   "source": [
    "eval_config=tfma.EvalConfig(    \n",
    "    model_specs=[tfma.ModelSpec(label_key=_LABEL_KEY)],\n",
    "    slicing_specs=[tfma.SlicingSpec()],    \n",
    "    metrics_specs=[tfma.MetricsSpec(\n",
    "        metrics=[\n",
    "            tfma.MetricConfig(class_name='BalancedAccuracy'),\n",
    "            tfma.MetricConfig(class_name='ConfusionMatrixPlot'),\n",
    "            tfma.MetricConfig(class_name='F1Score')   \n",
    "        ])    \n",
    "    ])"
   ]
  },
  {
   "cell_type": "code",
   "execution_count": null,
   "metadata": {},
   "outputs": [],
   "source": [
    "eval_result = tfma.run_model_analysis(\n",
    "    eval_shared_model=eval_shared_model,    \n",
    "    eval_config=eval_config,    \n",
    "    data_location=_EVAL_DATA_FILE,    \n",
    "    output_path=_EVAL_RESULT_LOCATION,    \n",
    "    file_format='tfrecords')"
   ]
  },
  {
   "cell_type": "code",
   "execution_count": null,
   "metadata": {},
   "outputs": [],
   "source": [
    "tfma.view.render_slicing_metrics(eval_result)"
   ]
  },
  {
   "cell_type": "code",
   "execution_count": null,
   "metadata": {},
   "outputs": [],
   "source": [
    "tfma.view.render_slicing_metrics(eval_result, slicing_spec=slices[0])"
   ]
  },
  {
   "cell_type": "code",
   "execution_count": null,
   "metadata": {},
   "outputs": [],
   "source": [
    "docker run -p 8501:8501 \\\n",
    "  -v /home/dot/Escritorio/trading_tfx/tfx_pipeline/pipeline_tfx/serving_model/pipeline_tfx/:/models/model \\\n",
    "  -t tensorflow/serving\n",
    "\n",
    "    \n",
    "    "
   ]
  },
  {
   "cell_type": "code",
   "execution_count": null,
   "metadata": {},
   "outputs": [],
   "source": [
    " docker rm -f blissful_chandrasekhar\n",
    "docker exec -it exciting_euclid bash"
   ]
  },
  {
   "cell_type": "code",
   "execution_count": null,
   "metadata": {},
   "outputs": [],
   "source": []
  },
  {
   "cell_type": "code",
   "execution_count": null,
   "metadata": {},
   "outputs": [],
   "source": []
  },
  {
   "cell_type": "code",
   "execution_count": null,
   "metadata": {},
   "outputs": [],
   "source": [
    "docker run -t --rm -p 8501:8501 \\\n",
    "    -v \"$TESTDATA/saved_model_half_plus_two_cpu:/models/half_plus_four\" \\\n",
    "    -e MODEL_NAME=half_plus_four \\\n",
    "    tensorflow/serving &"
   ]
  },
  {
   "cell_type": "code",
   "execution_count": null,
   "metadata": {},
   "outputs": [],
   "source": []
  },
  {
   "cell_type": "code",
   "execution_count": null,
   "metadata": {},
   "outputs": [],
   "source": [
    "import tensorflow_model_analysis as tfma\n",
    "\n",
    "# Get the TFMA output result path and load the result.\n",
    "PATH_TO_RESULT = evaluator.outputs['evaluation'].get()[0].uri\n",
    "tfma_result = tfma.load_eval_result(PATH_TO_RESULT)\n",
    "\n",
    "# Show data sliced along feature column trip_start_hour.\n",
    "tfma.view.render_slicing_metrics(\n",
    "    tfma_result, slicing_column='trip_start_hour')\n"
   ]
  },
  {
   "cell_type": "code",
   "execution_count": null,
   "metadata": {},
   "outputs": [],
   "source": []
  }
 ],
 "metadata": {
  "interpreter": {
   "hash": "31f2aee4e71d21fbe5cf8b01ff0e069b9275f58929596ceb00d14d90e3e16cd6"
  },
  "kernelspec": {
   "display_name": "Python 3 (ipykernel)",
   "language": "python",
   "name": "python3"
  },
  "language_info": {
   "codemirror_mode": {
    "name": "ipython",
    "version": 3
   },
   "file_extension": ".py",
   "mimetype": "text/x-python",
   "name": "python",
   "nbconvert_exporter": "python",
   "pygments_lexer": "ipython3",
   "version": "3.8.2"
  }
 },
 "nbformat": 4,
 "nbformat_minor": 2
}
