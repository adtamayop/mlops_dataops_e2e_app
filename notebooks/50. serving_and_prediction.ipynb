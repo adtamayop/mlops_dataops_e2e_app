{
 "cells": [
  {
   "cell_type": "markdown",
   "metadata": {},
   "source": [
    "## Check the signature of the generated model\n",
    "\n",
    "saved_model_cli show --dir tfx_pipeline/pipeline_tfx/serving_model/pipeline_tfx/1619546428/ --tag_set serve --signature_def serving_default"
   ]
  },
  {
   "cell_type": "code",
   "execution_count": null,
   "metadata": {},
   "outputs": [],
   "source": [
    "import base64\n",
    "import requests\n",
    "import pandas as pd\n",
    "import tensorflow as tf\n",
    "\n",
    "SERVING_MODEL_DIR = \"../tfx_pipeline/pipeline_tfx/serving_model/pipeline_tfx/1619546428/\"\n",
    "loaded_model = tf.keras.models.load_model(SERVING_MODEL_DIR)\n",
    "inference_fn = loaded_model.signatures['serving_default']"
   ]
  },
  {
   "cell_type": "code",
   "execution_count": null,
   "metadata": {},
   "outputs": [],
   "source": [
    "LABEL_KEY = \"close_t\"\n",
    "df_train = pd.read_csv(f\"../data/raw/train_data/train_data.csv\")\n",
    "FEATURE_KEYS = list(df_train.columns.values)\n",
    "if LABEL_KEY in FEATURE_KEYS:\n",
    "    FEATURE_KEYS.remove(LABEL_KEY)\n",
    "    values = df_train.iloc[0:1000,:]    \n",
    "    values = values.drop([LABEL_KEY], axis=1).values\n",
    "else:\n",
    "    values = df_train.iloc[16:20,:]"
   ]
  },
  {
   "cell_type": "code",
   "execution_count": null,
   "metadata": {},
   "outputs": [],
   "source": [
    "\n",
    "\n",
    "for row in values:\n",
    "    features = {}\n",
    "\n",
    "    for column, value in zip(FEATURE_KEYS, row):\n",
    "        features[column] = tf.train.Feature(float_list=tf.train.FloatList(value=[value]))\n",
    "\n",
    "    example_proto = tf.train.Example(features=tf.train.Features(feature=features))\n",
    "    examples = example_proto.SerializeToString()\n",
    "\n",
    "    result = inference_fn(examples=tf.constant([examples]))\n",
    "    print(result['output_0'].numpy())\n",
    "\n"
   ]
  },
  {
   "cell_type": "code",
   "execution_count": null,
   "metadata": {},
   "outputs": [],
   "source": []
  },
  {
   "cell_type": "code",
   "execution_count": null,
   "metadata": {},
   "outputs": [],
   "source": [
    "example_proto = tf.train.Example(features=tf.train.Features(feature=features))\n",
    "examples = example_proto.SerializeToString()\n",
    "\n",
    "result = inference_fn(examples=tf.constant([examples]))\n",
    "print(result['output_0'].numpy())"
   ]
  },
  {
   "cell_type": "markdown",
   "metadata": {},
   "source": [
    "## Serving model in docker "
   ]
  },
  {
   "cell_type": "markdown",
   "metadata": {},
   "source": [
    "    docker run --name tf_trading \\\n",
    "        -p 8501:8501 \\\n",
    "        -v \"$(pwd)/tfx_pipeline/pipeline_tfx/serving_model/pipeline_tfx:/models/my_model\" \\\n",
    "        -e MODEL_NAME=my_model \\\n",
    "        -t tensorflow/serving"
   ]
  },
  {
   "cell_type": "markdown",
   "metadata": {},
   "source": [
    "    GET http://localhost:8501/v1/models/my_model\n",
    "\n",
    "    GET http://localhost:8501/v1/models/my_model/metadata"
   ]
  },
  {
   "cell_type": "markdown",
   "metadata": {},
   "source": [
    "## Make predictions with serving model"
   ]
  },
  {
   "cell_type": "code",
   "execution_count": null,
   "metadata": {},
   "outputs": [],
   "source": [
    "def _bytes_feature(value):\n",
    "    return tf.train.Feature(\n",
    "        bytes_list=tf.train.BytesList(value=[value.encode()])\n",
    "        )\n",
    "\n",
    "def _float_feature(value):\n",
    "    return tf.train.Feature(\n",
    "        float_list=tf.train.FloatList(value=[value])\n",
    "        )\n",
    "\n",
    "def _int64_feature(value):\n",
    "    return tf.train.Feature(\n",
    "        int64_list=tf.train.Int64List(value=[value])\n",
    "        )"
   ]
  },
  {
   "cell_type": "code",
   "execution_count": null,
   "metadata": {},
   "outputs": [],
   "source": [
    "example = tf.train.Example(\n",
    "    features=tf.train.Features(\n",
    "        feature=features\n",
    "    )\n",
    ")\n",
    "\n",
    "serialized_example = example.SerializeToString()\n",
    "prediction = inference_fn(tf.constant([serialized_example]))\n",
    "prediction"
   ]
  },
  {
   "cell_type": "code",
   "execution_count": null,
   "metadata": {},
   "outputs": [],
   "source": [
    "example_bytes = base64.b64encode(serialized_example).decode('utf-8')\n",
    "payload = {\n",
    "    'signature_name': 'serving_default',\n",
    "    'instances': [{\n",
    "        'b64': example_bytes\n",
    "    }]\n",
    "}\n",
    "\n",
    "model_server_url = \"http://localhost:8501/v1/models/my_model:predict\"\n",
    "resp = requests.post(model_server_url, json=payload)\n",
    "print(resp.json()) "
   ]
  },
  {
   "cell_type": "markdown",
   "metadata": {},
   "source": [
    "GET http://localhost:8501/v1/models/my_model\n",
    "\n",
    "GET http://localhost:8501/v1/models/my_model/metadata\n",
    "\n"
   ]
  }
 ],
 "metadata": {
  "kernelspec": {
   "display_name": "Python 3.7.6 64-bit ('trading_system': conda)",
   "name": "python376jvsc74a57bd04b4c04326adde5c76f03c34fb684de470eb694e199456809ded66c5d353454bf"
  },
  "language_info": {
   "codemirror_mode": {
    "name": "ipython",
    "version": 3
   },
   "file_extension": ".py",
   "mimetype": "text/x-python",
   "name": "python",
   "nbconvert_exporter": "python",
   "pygments_lexer": "ipython3",
   "version": "3.7.6"
  }
 },
 "nbformat": 4,
 "nbformat_minor": 2
}
