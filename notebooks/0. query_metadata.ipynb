{
 "cells": [
  {
   "cell_type": "markdown",
   "metadata": {},
   "source": [
    "# Query the MLMD Database\n",
    "\n",
    "The MLMD database stores three types of metadata:\n",
    "\n",
    "- Metadata about the pipeline and lineage information associated with the pipeline components\n",
    "- Metadata about artifacts that were generated during the pipeline run\n",
    "- Metadata about the executions of the pipeline\n",
    "\n",
    "A typical production environment pipeline serves multiple models as new data arrives. When you encounter erroneous results in served models, you can query the MLMD database to isolate the erroneous models. You can then trace the lineage of the pipeline components that correspond to these models to debug your models"
   ]
  },
  {
   "cell_type": "code",
   "execution_count": null,
   "metadata": {},
   "outputs": [],
   "source": [
    "import sys, os\n",
    "import pandas as pd\n",
    "import ml_metadata as mlmd\n",
    "from ml_metadata.proto import metadata_store_pb2\n",
    "from ml_metadata.metadata_store import metadata_store\n",
    "from tfx.orchestration.experimental.interactive.interactive_context import InteractiveContext\n",
    "from utils_metadata import display_artifacts, display_properties, display_types,get_one_hop_parent_artifacts, find_producer_execution\n",
    "\n",
    "METADATA_PATH = \"../tfx_pipeline_output/metadata/metadata.db\"\n",
    "#PIPELINE_ROOT = \"/home/dot/Escritorio/trading_tfx/tfx_pipeline/metadata/pipeline_tfx/metadata.db\"\n",
    "PIPELINE_NAME = \"pipeline_tfx\"\n"
   ]
  },
  {
   "cell_type": "markdown",
   "metadata": {},
   "source": [
    "## Metadata storage backends and store connection configuration"
   ]
  },
  {
   "cell_type": "code",
   "execution_count": null,
   "metadata": {},
   "outputs": [],
   "source": [
    "# interactive_context = InteractiveContext(pipeline_root=PIPELINE_ROOT)\n",
    "connection_config = metadata_store_pb2.ConnectionConfig()\n",
    "connection_config.sqlite.filename_uri = METADATA_PATH\n",
    "connection_config.sqlite.connection_mode = 3\n",
    "store = metadata_store.MetadataStore(connection_config)\n",
    "\n",
    "base_dir = connection_config.sqlite.filename_uri.split('...')[0]\n",
    "base_dir"
   ]
  },
  {
   "cell_type": "markdown",
   "metadata": {},
   "source": [
    "1. query the MD store for a list of all its stored `ArtifactTypes`"
   ]
  },
  {
   "cell_type": "code",
   "execution_count": null,
   "metadata": {},
   "outputs": [],
   "source": [
    "display_types(store.get_artifact_types())"
   ]
  },
  {
   "cell_type": "markdown",
   "metadata": {},
   "source": [
    "query all `PushedModel artifacts`"
   ]
  },
  {
   "cell_type": "code",
   "execution_count": null,
   "metadata": {},
   "outputs": [],
   "source": [
    "pushed_models = store.get_artifacts_by_type(\"PushedModel\")\n",
    "display_artifacts(store, pushed_models, base_dir)"
   ]
  },
  {
   "cell_type": "markdown",
   "metadata": {},
   "source": [
    "Query the MD store for the latest pushed model"
   ]
  },
  {
   "cell_type": "code",
   "execution_count": null,
   "metadata": {},
   "outputs": [],
   "source": [
    "pushed_model = pushed_models[0]\n",
    "display_properties(store, pushed_model)"
   ]
  },
  {
   "cell_type": "markdown",
   "metadata": {},
   "source": [
    "One of the first steps in debugging a pushed model is to look at which trained model is pushed and to see which training data is used to train that model.\n",
    "\n",
    "MLMD provides traversal APIs to walk through the provenance graph, which you can use to analyze the model provenance.\n",
    "\n",
    "Query the parent artifacts for the pushed model."
   ]
  },
  {
   "cell_type": "code",
   "execution_count": null,
   "metadata": {},
   "outputs": [],
   "source": [
    "parent_artifacts = get_one_hop_parent_artifacts(store, [pushed_model])\n",
    "display_artifacts(store, parent_artifacts, base_dir)"
   ]
  },
  {
   "cell_type": "markdown",
   "metadata": {},
   "source": [
    "Query the properties for the model."
   ]
  },
  {
   "cell_type": "code",
   "execution_count": null,
   "metadata": {},
   "outputs": [],
   "source": [
    "exported_model = parent_artifacts[0]\n",
    "display_properties(store, exported_model)"
   ]
  },
  {
   "cell_type": "markdown",
   "metadata": {},
   "source": [
    "Query the upstream artifacts for the model."
   ]
  },
  {
   "cell_type": "code",
   "execution_count": null,
   "metadata": {},
   "outputs": [],
   "source": [
    "model_parents = get_one_hop_parent_artifacts(store, [exported_model])\n",
    "display_artifacts(store, model_parents, base_dir)"
   ]
  },
  {
   "cell_type": "markdown",
   "metadata": {},
   "source": [
    "Get the training data the model trained with."
   ]
  },
  {
   "cell_type": "code",
   "execution_count": null,
   "metadata": {},
   "outputs": [],
   "source": [
    "used_data = model_parents[0]\n",
    "display_properties(store, used_data)"
   ]
  },
  {
   "cell_type": "markdown",
   "metadata": {},
   "source": [
    "Now that you have the training data that the model trained with, query the database again to find the training step (execution). Query the MD store for a list of the registered execution types."
   ]
  },
  {
   "cell_type": "code",
   "execution_count": null,
   "metadata": {},
   "outputs": [],
   "source": [
    "display_types(store.get_execution_types())"
   ]
  },
  {
   "cell_type": "markdown",
   "metadata": {},
   "source": [
    "The training step is the ExecutionType named tfx.components.trainer.component.Trainer. Traverse the MD store to get the trainer run that corresponds to the pushed model."
   ]
  },
  {
   "cell_type": "code",
   "execution_count": null,
   "metadata": {},
   "outputs": [],
   "source": [
    "trainer = find_producer_execution(store, exported_model)\n",
    "display_properties(store, trainer)"
   ]
  },
  {
   "cell_type": "markdown",
   "metadata": {},
   "source": [
    "for more methods: https://www.tensorflow.org/tfx/ml_metadata/api_docs/python/mlmd/MetadataStore"
   ]
  },
  {
   "cell_type": "markdown",
   "metadata": {},
   "source": [
    "---"
   ]
  }
 ],
 "metadata": {
  "kernelspec": {
   "display_name": "Python 3.7.6 64-bit ('trading_system': conda)",
   "name": "python376jvsc74a57bd04b4c04326adde5c76f03c34fb684de470eb694e199456809ded66c5d353454bf"
  },
  "language_info": {
   "codemirror_mode": {
    "name": "ipython",
    "version": 3
   },
   "file_extension": ".py",
   "mimetype": "text/x-python",
   "name": "python",
   "nbconvert_exporter": "python",
   "pygments_lexer": "ipython3",
   "version": "3.7.6"
  }
 },
 "nbformat": 4,
 "nbformat_minor": 2
}
